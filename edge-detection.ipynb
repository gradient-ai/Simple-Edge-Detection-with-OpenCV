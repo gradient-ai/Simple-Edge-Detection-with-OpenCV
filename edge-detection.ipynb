{
 "cells": [
  {
   "cell_type": "markdown",
   "metadata": {
    "gradient": {
     "editing": false
    }
   },
   "source": [
    "# Simple Edge Detection With OpenCV\n",
    "\n",
    "In this tutorial we'll find edges using the Sobel operator (`cv2.Sobel()`) and Canny edge detector (`cv2.Canny()`) from OpenCV.\n",
    "\n",
    "This tutorial was adapted from [here](https://github.com/dalgu90/opencv-tutorial).\n",
    "\n"
   ]
  },
  {
   "cell_type": "markdown",
   "metadata": {
    "gradient": {
     "editing": false
    }
   },
   "source": [
    "## Load packages"
   ]
  },
  {
   "cell_type": "code",
   "execution_count": null,
   "metadata": {
    "gradient": {}
   },
   "outputs": [],
   "source": [
    "import numpy as np\n",
    "import cv2 \n",
    "%matplotlib inline\n",
    "import matplotlib.pyplot as plt"
   ]
  },
  {
   "cell_type": "markdown",
   "metadata": {
    "gradient": {
     "editing": false
    }
   },
   "source": [
    "## Load sample image"
   ]
  },
  {
   "cell_type": "code",
   "execution_count": null,
   "metadata": {},
   "outputs": [],
   "source": [
    "!wget https://s3.amazonaws.com/ps.public.resources/ml-showcase/messi.jpg"
   ]
  },
  {
   "cell_type": "code",
   "execution_count": null,
   "metadata": {
    "gradient": {}
   },
   "outputs": [],
   "source": [
    "# Load an image into grayscale\n",
    "input_image = cv2.imread('messi.jpg', cv2.IMREAD_GRAYSCALE)\n",
    "print('dtype: ' + str(input_image.dtype))\n",
    "print('shape: ' + str(input_image.shape))\n",
    "\n",
    "plt.imshow(input_image, cmap='gray')"
   ]
  },
  {
   "cell_type": "markdown",
   "metadata": {
    "gradient": {
     "editing": false
    }
   },
   "source": [
    "## 1. Edge detection with the Sobel operator\n",
    "`edges = cv2.Sobel(src, ddepth, dx, dy, ksize=3, scale=1.0)`\n",
    "\n",
    "* `src`: input image\n",
    "* `ddepth`: output image depth\n",
    "* `dx`: order of the derivative x\n",
    "* `dy`: order of the derivative y\n",
    "* `ksize`: size of the extended Sobel kernel; it must be 1, 3, 5, or 7\n",
    "* `scale`: optional scale factor for the computed derivative values"
   ]
  },
  {
   "cell_type": "code",
   "execution_count": null,
   "metadata": {
    "gradient": {}
   },
   "outputs": [],
   "source": [
    "ddepth = cv2.CV_64F  # 64-bit float output\n",
    "dx = 1  # First-order derivative in x-direction\n",
    "dy = 0  # No derivative in y-direction\n",
    "sobelx = cv2.Sobel(input_image, ddepth, dx, dy)\n",
    "\n",
    "plt.imshow(sobelx, cmap='gray')"
   ]
  },
  {
   "cell_type": "code",
   "execution_count": null,
   "metadata": {
    "gradient": {}
   },
   "outputs": [],
   "source": [
    "# Sobel operations and their magnitudes\n",
    "sobelx = cv2.Sobel(input_image, cv2.CV_64F, 1, 0)\n",
    "sobely = cv2.Sobel(input_image, cv2.CV_64F, 0, 1)\n",
    "sobel = cv2.sqrt(cv2.addWeighted(cv2.pow(sobelx, 2.0), 1.0, cv2.pow(sobely, 2.0), 1.0, 0.0))\n",
    "\n",
    "plt.figure(figsize=(6, 6));\n",
    "plt.subplot(2, 2, 1); plt.title('Input image'); plt.axis('off');\n",
    "plt.imshow(input_image, cmap='gray');\n",
    "plt.subplot(2, 2, 2); plt.title('Sobel x operation'); plt.axis('off');\n",
    "plt.imshow(cv2.absdiff(sobelx, 0.0), cmap='gray')\n",
    "plt.subplot(2, 2, 3); plt.title('Sobel y operation'); plt.axis('off');\n",
    "plt.imshow(cv2.absdiff(sobely, 0.0), cmap='gray');\n",
    "plt.subplot(2, 2, 4); plt.title('Sobel intensity'); plt.axis('off');\n",
    "plt.imshow(sobel, cmap='gray');"
   ]
  },
  {
   "cell_type": "markdown",
   "metadata": {
    "gradient": {
     "editing": false
    }
   },
   "source": [
    "## 2. Canny Edge Detection\n",
    "`edges = cv2.Canny(image, threshold1, threshold2, apatureSize=3, L2gradient=False)`\n",
    "\n",
    "* `image`: 8-bit grayscale input image\n",
    "* `threshold1/threshold2`: thresholds for the hysteresis procedure\n",
    "* `apertureSize`: aperture size for the Sobel() operator\n",
    "* `L2gradient`: A flag. `True` to use L2-norm of gradients. `False` for L1-norm"
   ]
  },
  {
   "cell_type": "code",
   "execution_count": null,
   "metadata": {
    "gradient": {}
   },
   "outputs": [],
   "source": [
    "threshold1 = 100\n",
    "threshold2 = 200\n",
    "canny = cv2.Canny(input_image, threshold1, threshold2)\n",
    "\n",
    "plt.imshow(canny, cmap='gray')"
   ]
  },
  {
   "cell_type": "code",
   "execution_count": null,
   "metadata": {
    "gradient": {}
   },
   "outputs": [],
   "source": [
    "# Edge detections with various thresholds\n",
    "canny1 = cv2.Canny(input_image, 50, 150)\n",
    "canny2 = cv2.Canny(input_image, 100, 200)\n",
    "canny3 = cv2.Canny(input_image, 150, 250)\n",
    "\n",
    "plt.figure(figsize=(9, 3));\n",
    "plt.subplot(1, 3, 1); plt.title('Canny 50/150'); plt.axis('off');\n",
    "plt.imshow(canny1, cmap='gray');\n",
    "plt.subplot(1, 3, 2); plt.title('Canny 100/200'); plt.axis('off');\n",
    "plt.imshow(canny2, cmap='gray');\n",
    "plt.subplot(1, 3, 3); plt.title('Canny 150/250'); plt.axis('off');\n",
    "plt.imshow(canny3, cmap='gray');"
   ]
  },
  {
   "cell_type": "markdown",
   "metadata": {},
   "source": [
    "Here's another exmaple:"
   ]
  },
  {
   "cell_type": "code",
   "execution_count": null,
   "metadata": {
    "gradient": {}
   },
   "outputs": [],
   "source": [
    "# Load image\n",
    "impath = 'messi.jpg'\n",
    "image = cv2.imread(impath, cv2.IMREAD_GRAYSCALE)\n",
    "\n",
    "# Find edges\n",
    "threshold1 = 50\n",
    "threshold2 = 150\n",
    "output = cv2.Canny(image, threshold1, threshold2)\n",
    "\n",
    "# Display predictions\n",
    "plt.figure(figsize=(8, 3));\n",
    "plt.subplot(1, 2, 1); plt.title('Input image'); plt.axis('off');\n",
    "plt.imshow(cv2.cvtColor(image, cv2.COLOR_GRAY2RGB));\n",
    "plt.subplot(1, 2, 2); plt.title('Output'); plt.axis('off');\n",
    "plt.imshow(output, cmap='gray')"
   ]
  }
 ],
 "metadata": {
  "kernelspec": {
   "display_name": "Python 3",
   "language": "python",
   "name": "python3"
  },
  "language_info": {
   "codemirror_mode": {
    "name": "ipython",
    "version": 3
   },
   "file_extension": ".py",
   "mimetype": "text/x-python",
   "name": "python",
   "nbconvert_exporter": "python",
   "pygments_lexer": "ipython3",
   "version": "3.6.8"
  }
 },
 "nbformat": 4,
 "nbformat_minor": 4
}
